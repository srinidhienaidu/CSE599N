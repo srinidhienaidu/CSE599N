{
 "cells": [
  {
   "cell_type": "markdown",
   "metadata": {},
   "source": [
    "# Homework 3: Question 3"
   ]
  },
  {
   "cell_type": "markdown",
   "metadata": {},
   "source": [
    "## Question 3"
   ]
  },
  {
   "cell_type": "code",
   "execution_count": 54,
   "metadata": {},
   "outputs": [],
   "source": [
    "import numpy as np\n",
    "import matplotlib.pyplot as plt"
   ]
  },
  {
   "cell_type": "markdown",
   "metadata": {},
   "source": [
    "Run the following cell to load in the data (make sure that you set the file paths for the data files correctly). Then, complete each section under\n",
    "1. Data Preprocessing,\n",
    "2. Training Phase,\n",
    "3. Testing Phase, and\n",
    "4. Performance Evaluation."
   ]
  },
  {
   "cell_type": "code",
   "execution_count": 55,
   "metadata": {},
   "outputs": [
    {
     "name": "stdout",
     "output_type": "stream",
     "text": [
      "8\n",
      "91\n",
      "91\n"
     ]
    }
   ],
   "source": [
    "# Load data\n",
    "train_trial = np.load(\"./data/hw3-q3_train_trial.npy\", allow_pickle=True)\n",
    "test_trial = np.load(\"./data/hw3-q3_test_trial.npy\", allow_pickle=True)\n",
    "\n",
    "NUM_TRAIN, NUM_DIRECTIONS = train_trial.shape\n",
    "NUM_TEST = test_trial.shape[0]\n",
    "\n",
    "print(NUM_DIRECTIONS)\n",
    "print(NUM_TRAIN)\n",
    "print(NUM_TEST)"
   ]
  },
  {
   "cell_type": "markdown",
   "metadata": {},
   "source": [
    "## Data Preprocessing"
   ]
  },
  {
   "cell_type": "code",
   "execution_count": 56,
   "metadata": {},
   "outputs": [],
   "source": [
    "def round_down_to_multiple_of_20(x):\n",
    "    if x % 20 == 0:\n",
    "        return x\n",
    "    else:\n",
    "        rounded_down = (x // 20) * 20\n",
    "        return rounded_down"
   ]
  },
  {
   "cell_type": "code",
   "execution_count": 57,
   "metadata": {},
   "outputs": [],
   "source": [
    "def velocity(start, end, time):\n",
    "    return ((end - start)/ time)"
   ]
  },
  {
   "cell_type": "code",
   "execution_count": 58,
   "metadata": {},
   "outputs": [
    {
     "data": {
      "text/plain": [
       "(97, 229)"
      ]
     },
     "execution_count": 58,
     "metadata": {},
     "output_type": "execute_result"
    }
   ],
   "source": [
    "train_trial[13,3]['spikes'].shape"
   ]
  },
  {
   "cell_type": "code",
   "execution_count": 59,
   "metadata": {},
   "outputs": [],
   "source": [
    "def preprocess_spikes_and_states(data: np.array):\n",
    "    \"\"\"\n",
    "    Preprocesses train or test data. \n",
    "\n",
    "    Args:\n",
    "        data: Either train_trial or test_trial. shape = (num_trials, num_directions). \n",
    "    Returns:\n",
    "        spike_counts (np.array): spike counts in non-overlapping time bins.\n",
    "        arm_states (np.array): 4-dim arm states.\n",
    "    \"\"\"\n",
    "    # We provide empty numpy arrays as one potential data structure to store the spike counts and\n",
    "    # arm states in. Here, for spike_counts, we can store a nested list of shape (97 x T) in each entry,\n",
    "    # where T is the number of 20 ms time bins in the corresponding trial.\n",
    "    # You are welcome to change these structures if you prefer a different implementation.\n",
    "\n",
    "\n",
    "\n",
    "    keys = np.arange(0, 8, 1)\n",
    "\n",
    "    arm_states = {key: [] for key in keys}\n",
    "    spike_counts = {key: [] for key in keys}\n",
    "\n",
    "    for dir in range(NUM_DIRECTIONS):\n",
    "        for trial in range(NUM_TRAIN):\n",
    "\n",
    "            len_trial = data[trial, dir]['spikes'].shape[1]\n",
    "            rounded_counts = round_down_to_multiple_of_20(len_trial)\n",
    "\n",
    "            T = int(rounded_counts/20)\n",
    "\n",
    "            bins = np.arange(0, rounded_counts + 20, 20)\n",
    "            binned_count = np.zeros((97, T))\n",
    "\n",
    "            # Calculating Velocities\n",
    "            arm_state = np.zeros((4, T))\n",
    "            for idx in (range(T)):\n",
    "                \n",
    "                start = bins[idx]\n",
    "                end = bins[idx + 1]\n",
    "\n",
    "                end_hor_pos = data[trial, dir]['handPos'][0, end - 1]\n",
    "                end_vert_pos = data[trial, dir]['handPos'][1, end - 1]\n",
    "\n",
    "                if start == 0:\n",
    "                    start_hor_pos = data[trial, dir]['handPos'][0, start]\n",
    "                    start_vert_pos = data[trial, dir]['handPos'][1, start]\n",
    "                else:\n",
    "                    start_hor_pos = data[trial, dir]['handPos'][0, start - 1]\n",
    "                    start_vert_pos = data[trial, dir]['handPos'][1, start - 1]\n",
    "\n",
    "                hor_vel = (end_hor_pos - start_hor_pos) / 20\n",
    "                vert_vel = (end_vert_pos - start_vert_pos) / 20\n",
    "\n",
    "                arm_state[0, idx] = end_hor_pos\n",
    "                arm_state[1, idx] = end_vert_pos\n",
    "\n",
    "                arm_state[2, idx] = hor_vel\n",
    "                arm_state[3, idx] = vert_vel\n",
    "\n",
    "            arm_states[dir].append(arm_state)\n",
    "\n",
    "            for neuron in range(97):\n",
    "                raw_counts = data[trial, dir]['spikes'][neuron, :]\n",
    "                for idx in range(T):\n",
    "                    start = bins[idx]\n",
    "                    end = bins[idx + 1]\n",
    "\n",
    "                    binned_count[neuron, idx] = np.sum(raw_counts[start : end])\n",
    "\n",
    "            spike_counts[dir].append(binned_count)\n",
    "\n",
    "    # # ----- YOUR CODE HERE ----- #\n",
    "    return spike_counts, arm_states\n",
    "    # -------------------------- #"
   ]
  },
  {
   "cell_type": "code",
   "execution_count": 60,
   "metadata": {},
   "outputs": [],
   "source": [
    "# save preprocessed data into variables\n",
    "train_spike_counts, train_arm_states = preprocess_spikes_and_states(train_trial)\n",
    "test_spike_counts, test_arm_states = preprocess_spikes_and_states(test_trial)"
   ]
  },
  {
   "cell_type": "markdown",
   "metadata": {},
   "source": [
    "## Training Phase"
   ]
  },
  {
   "cell_type": "code",
   "execution_count": 61,
   "metadata": {},
   "outputs": [],
   "source": [
    "def fit_parameters(train_spike_counts: np.array, train_arm_states: np.array):\n",
    "    \"\"\"\n",
    "    Fit the A, Pi, V, and C parameters.\n",
    "    \n",
    "    Args:\n",
    "        train_spike_counts (np.array): spike counts in non-overlapping time bins for training data.\n",
    "        train_arm_states (np.array): 4-dim arm states for training data.\n",
    "    Returns:\n",
    "        Model parameters {A, Pi, V, C}.\n",
    "    \"\"\"\n",
    "    # ----- YOUR CODE HERE ----- #\n",
    "    A_left = 0\n",
    "    A_right = 0\n",
    "    Pi = 0\n",
    "    count = 0\n",
    "    C_left = 0\n",
    "    C_right = 0\n",
    "    total_Z= []\n",
    "\n",
    "    for trial in range(NUM_TRAIN):\n",
    "        for angle in range(NUM_DIRECTIONS):\n",
    "            T_range = train_arm_states[trial][angle].shape[1]\n",
    "            Pi += (train_arm_states[trial][angle][:, 0]).reshape(4, 1)\n",
    "            count += 1\n",
    "            V_array = train_arm_states[trial][angle][:, 0].reshape(4, 1)\n",
    "            total_Z.append(V_array)\n",
    "\n",
    "            # A\n",
    "            for T in range(1, T_range):\n",
    "                z_t_1 = (train_arm_states[trial][angle][:, T]).reshape(4, 1)\n",
    "                z_t_0 = (train_arm_states[trial][angle][:, T - 1]).reshape(4, 1)\n",
    "                A_left += z_t_1 @ z_t_0.T\n",
    "                A_right += z_t_0 @ z_t_0.T\n",
    "\n",
    "            for T in range(T_range):\n",
    "                \n",
    "                x_t = (train_spike_counts[angle][trial][:, T]).reshape(97, 1)\n",
    "\n",
    "                z_t = (train_arm_states[trial][angle][:, T]).reshape(4, 1)\n",
    "                C_left += np.outer(x_t, z_t)\n",
    "                C_right += np.outer(z_t, z_t)\n",
    "\n",
    "    A = A_left @ np.linalg.inv(A_right)\n",
    "    Pi = Pi/count \n",
    "    C = C_left @ np.linalg.inv(C_right)\n",
    "    total_Z = np.array(total_Z).reshape(NUM_DIRECTIONS*NUM_TRAIN, 4)\n",
    "    V = np.cov(total_Z.T)\n",
    "\n",
    "\n",
    "    return A, Pi, V, C\n",
    "    # -------------------------- #"
   ]
  },
  {
   "cell_type": "code",
   "execution_count": 62,
   "metadata": {},
   "outputs": [],
   "source": [
    "def fit_qr_parameters(train_spike_counts: np.array, train_arm_states: np.array, A, C):\n",
    "    \"\"\"\n",
    "    Fit the Q and R parameters.\n",
    "    \n",
    "    Args:\n",
    "        train_spike_counts (np.array): spike counts in non-overlapping time bins for training data.\n",
    "        train_arm_states (np.array): 4-dim arm states for training data.\n",
    "        A (np.array or other): model parameter A from fit_parameter() function.\n",
    "        C (np.array or other): model parameter C from fit_parameter() function.\n",
    "    Returns:\n",
    "        Model parameters {Q, R}.\n",
    "    \"\"\"\n",
    "    # ----- YOUR CODE HERE ----- #\n",
    "    R = 0\n",
    "    Q = 0\n",
    "    for angle in range(NUM_DIRECTIONS):\n",
    "        for trial in range(NUM_TRAIN):\n",
    "            T_range = train_spike_counts[angle][trial].shape[1]\n",
    "\n",
    "            for T in range(T_range):\n",
    "                R_x_t = (train_spike_counts[angle][trial][:, T]).reshape(97, 1)\n",
    "                R_z_t = (train_arm_states[trial][angle][:, T]).reshape(4, 1)\n",
    "                R_value = R_x_t - (C @ R_z_t)\n",
    "                R += R_value @ R_value.T\n",
    "                \n",
    "            for T in range(1, T_range):\n",
    "                z_t_1 = (train_arm_states[trial][angle][:, T]).reshape(4, 1)\n",
    "                z_t_0 = (train_arm_states[trial][angle][:, T - 1]).reshape(4, 1)\n",
    "                Q_value = z_t_1 - (A @ z_t_0) \n",
    "                Q += np.outer(Q_value, Q_value)\n",
    "\n",
    "    N = NUM_TRAIN * NUM_DIRECTIONS\n",
    "    Q = Q * (1/N - 1)\n",
    "    # print(Q)\n",
    "    return Q, R\n",
    "    # -------------------------- #"
   ]
  },
  {
   "cell_type": "code",
   "execution_count": 63,
   "metadata": {},
   "outputs": [
    {
     "ename": "IndexError",
     "evalue": "index 10 is out of bounds for axis 1 with size 10",
     "output_type": "error",
     "traceback": [
      "\u001b[0;31m---------------------------------------------------------------------------\u001b[0m",
      "\u001b[0;31mIndexError\u001b[0m                                Traceback (most recent call last)",
      "Cell \u001b[0;32mIn[63], line 1\u001b[0m\n\u001b[0;32m----> 1\u001b[0m A, Pi, V, C \u001b[38;5;241m=\u001b[39m \u001b[43mfit_parameters\u001b[49m\u001b[43m(\u001b[49m\u001b[43mtrain_spike_counts\u001b[49m\u001b[43m,\u001b[49m\u001b[43m \u001b[49m\u001b[43mtrain_arm_states\u001b[49m\u001b[43m)\u001b[49m\n\u001b[1;32m      2\u001b[0m Q, R \u001b[38;5;241m=\u001b[39m fit_qr_parameters(train_spike_counts, train_arm_states, A, C)\n\u001b[1;32m      4\u001b[0m \u001b[38;5;28mprint\u001b[39m(\u001b[38;5;124mf\u001b[39m\u001b[38;5;124m\"\u001b[39m\u001b[38;5;124mA: \u001b[39m\u001b[38;5;132;01m{\u001b[39;00mA\u001b[38;5;132;01m}\u001b[39;00m\u001b[38;5;124m\"\u001b[39m)\n",
      "Cell \u001b[0;32mIn[61], line 37\u001b[0m, in \u001b[0;36mfit_parameters\u001b[0;34m(train_spike_counts, train_arm_states)\u001b[0m\n\u001b[1;32m     33\u001b[0m     A_right \u001b[38;5;241m+\u001b[39m\u001b[38;5;241m=\u001b[39m z_t_0 \u001b[38;5;241m@\u001b[39m z_t_0\u001b[38;5;241m.\u001b[39mT\n\u001b[1;32m     35\u001b[0m \u001b[38;5;28;01mfor\u001b[39;00m T \u001b[38;5;129;01min\u001b[39;00m \u001b[38;5;28mrange\u001b[39m(T_range):\n\u001b[0;32m---> 37\u001b[0m     x_t \u001b[38;5;241m=\u001b[39m (\u001b[43mtrain_spike_counts\u001b[49m\u001b[43m[\u001b[49m\u001b[43mangle\u001b[49m\u001b[43m]\u001b[49m\u001b[43m[\u001b[49m\u001b[43mtrial\u001b[49m\u001b[43m]\u001b[49m\u001b[43m[\u001b[49m\u001b[43m:\u001b[49m\u001b[43m,\u001b[49m\u001b[43m \u001b[49m\u001b[43mT\u001b[49m\u001b[43m]\u001b[49m)\u001b[38;5;241m.\u001b[39mreshape(\u001b[38;5;241m97\u001b[39m, \u001b[38;5;241m1\u001b[39m)\n\u001b[1;32m     39\u001b[0m     z_t \u001b[38;5;241m=\u001b[39m (train_arm_states[trial][angle][:, T])\u001b[38;5;241m.\u001b[39mreshape(\u001b[38;5;241m4\u001b[39m, \u001b[38;5;241m1\u001b[39m)\n\u001b[1;32m     40\u001b[0m     C_left \u001b[38;5;241m+\u001b[39m\u001b[38;5;241m=\u001b[39m np\u001b[38;5;241m.\u001b[39mouter(x_t, z_t)\n",
      "\u001b[0;31mIndexError\u001b[0m: index 10 is out of bounds for axis 1 with size 10"
     ]
    }
   ],
   "source": [
    "A, Pi, V, C = fit_parameters(train_spike_counts, train_arm_states)\n",
    "Q, R = fit_qr_parameters(train_spike_counts, train_arm_states, A, C)\n",
    "\n",
    "print(f\"A: {A}\")\n",
    "print('')\n",
    "print(f\"Q: {Q}\")\n",
    "print('')\n",
    "\n",
    "# print(A.shape, Pi.shape, V.shape, C.shape)"
   ]
  },
  {
   "cell_type": "markdown",
   "metadata": {},
   "source": [
    "## Test Phase"
   ]
  },
  {
   "cell_type": "code",
   "execution_count": 46,
   "metadata": {},
   "outputs": [],
   "source": [
    "def decode_arm_trajectories(test_spike_counts, test_arm_states, A, Pi, V, C):\n",
    "    \"\"\"\n",
    "    Use model parameters previously found and apply Kalman filter to decode an arm\n",
    "    trajectory for each test trial.\n",
    "\n",
    "    Args:\n",
    "        test_spike_counts (np.array): spike counts in non-overlapping time bins for test data.\n",
    "        test_arm_states (np.array): 4-dim arm states for test data.\n",
    "        A (np.array or other): model parameter A from fit_parameter() function.\n",
    "        Pi (np.array or other): model parameter Pi from fit_parameter() function.\n",
    "        V (np.array or other): model parameter V from fit_parameter() function.\n",
    "        C (np.array or other): model parameter C from fit_parameter() function.\n",
    "    Returns:\n",
    "    \n",
    "        test_est_state_mean (np.array): contains decoded mean position estimates.\n",
    "        test_est_state_cov (np.array): contains covaraince matrices for each test trial prediction.\n",
    "    \"\"\"\n",
    "    # We provide empty numpy arrays as one potential data structure to store the decoded mean position \n",
    "    # estimates and covariance matrices.\n",
    "    # You are welcome to change these structures if you prefer a different implementation.\n",
    "    keys = np.arange(0, 8, 1)\n",
    "    test_est_state_cov = {key: [] for key in keys}\n",
    "    test_est_state_mean = {key: [] for key in keys}\n",
    "    initial_mu = Pi\n",
    "    initial_cov = V\n",
    "\n",
    "    for dir in range(NUM_DIRECTIONS):\n",
    "        for trial in range(NUM_TEST):\n",
    "            T_range = test_spike_counts[dir][trial].shape[1]\n",
    "\n",
    "\n",
    "            for T in range(T_range):\n",
    "                \n",
    "                mu_one_step = A @ initial_mu\n",
    "                cov_one_step = (A @ initial_cov @ A.T) + Q \n",
    "\n",
    "                x_t = (test_spike_counts[dir][trial][:, T]).reshape(97, 1)\n",
    "                K_t = cov_one_step @ C.T @ np.linalg.inv(C @ cov_one_step @ C.T + R)\n",
    "\n",
    "                mu_meas_up = mu_one_step + K_t @ (x_t - C @ mu_one_step)\n",
    "                cov_meas_up = cov_one_step - (K_t @ C @ cov_one_step)\n",
    "\n",
    "            test_est_state_mean[dir].append(mu_meas_up)\n",
    "            test_est_state_cov[dir].append(cov_meas_up)\n",
    "\n",
    "            initial_mu = mu_meas_up\n",
    "            initial_cov = cov_meas_up\n",
    "    \n",
    "    # ----- YOUR CODE HERE ----- #\n",
    "    return test_est_state_mean, test_est_state_cov\n",
    "    # -------------------------- #"
   ]
  },
  {
   "cell_type": "code",
   "execution_count": null,
   "metadata": {},
   "outputs": [],
   "source": [
    "# mu_vals = []\n",
    "# cov_vals = []\n",
    "\n",
    "# for angle in range(NUM_DIRECTIONS):\n",
    "#     for trial in range(NUM_TEST):\n",
    "#         T_range = test_spike_counts[angle][trial].shape[1]\n",
    "\n",
    "#         initial_mu = Pi\n",
    "#         initial_cov = V\n",
    "\n",
    "#         for T in range(T_range):\n",
    "            \n",
    "#             mu_one_step = A @ initial_mu\n",
    "#             cov_one_step = (A @ initial_cov @ A.T) + Q \n",
    "\n",
    "#             x_t = (test_spike_counts[angle][trial][:, T]).reshape(97, 1)\n",
    "#             K_t = cov_one_step @ C.T @ np.linalg.inv(C @ cov_one_step @ C.T + R)\n",
    "\n",
    "#             mu_meas_up = mu_one_step + K_t @ (x_t - C @ mu_one_step)\n",
    "#             cov_meas_up = cov_one_step - (K_t @ C @ cov_one_step)\n",
    "\n",
    "#             mu_vals.append(mu_meas_up)\n",
    "#             cov_vals.append(cov_meas_up)\n",
    "\n",
    "#             initial_mu = mu_meas_up\n",
    "#             initial_cov = cov_meas_up\n"
   ]
  },
  {
   "cell_type": "code",
   "execution_count": 47,
   "metadata": {},
   "outputs": [],
   "source": [
    "test_est_state_mean, test_est_state_cov = decode_arm_trajectories(\n",
    "    test_spike_counts,\n",
    "    test_arm_states,\n",
    "    A,\n",
    "    Pi,\n",
    "    V,\n",
    "    C\n",
    ")"
   ]
  },
  {
   "cell_type": "code",
   "execution_count": 49,
   "metadata": {},
   "outputs": [
    {
     "name": "stdout",
     "output_type": "stream",
     "text": [
      "91\n"
     ]
    }
   ],
   "source": [
    "print(len(test_est_state_cov[0]))"
   ]
  },
  {
   "cell_type": "code",
   "execution_count": 15,
   "metadata": {},
   "outputs": [],
   "source": [
    "def plot_confidence_ellipse(M, V):\n",
    "    \"\"\"\n",
    "    Plot a one standard-deviation ellipse for a N-dimensional Gaussian distribution.\n",
    "    Arguments:\n",
    "        M: mean of the Gaussian (N x 1) \n",
    "        V: Covariance matrix of the Gaussian (N x N)\n",
    "\n",
    "    We've provided this function for you. Feel free to use it as is to help plot \n",
    "    the one standard-deviation confidence ellipse for each position estimate, modify it\n",
    "    to your liking, or write your own function.\n",
    "\n",
    "    Code adapted from EM_GM.m by Patrick P. C. Tsui.\n",
    "    \"\"\"\n",
    "    eigenvals, eigenvecs = np.linalg.eig(V)\n",
    "    d = len(M)\n",
    "    if not np.any(V): # if V is array of all zeros\n",
    "        V[:, :] = np.ones((d,d))  * np.finfo(float).eps\n",
    "    inv_V = np.linalg.inv(V)\n",
    "\n",
    "    # find the larger projection\n",
    "    P = np.array([[1,0], [0,0]]) # X-axis projection operator\n",
    "    P1 = P @ np.reshape((2 * np.sqrt(eigenvals[0]) * eigenvecs[:,0]), (2,1))\n",
    "    P2 = P @ np.reshape((2 * np.sqrt(eigenvals[1]) * eigenvecs[:,1]), (2,1))\n",
    "    if (np.all(np.abs(P1) >= np.abs(P2))):\n",
    "        P_len = P1[0]\n",
    "    else:\n",
    "        P_len = P2[0]\n",
    "    \n",
    "    count = 0\n",
    "    step = 0.001 * P_len\n",
    "    contour_1 = np.zeros((2001,2))\n",
    "    contour_2 = np.zeros((2001,2))\n",
    "\n",
    "    for x in np.arange(-P_len, P_len + step, step):\n",
    "        a = inv_V[1,1]\n",
    "        b = x * (inv_V[0, 1] + inv_V[1, 0])\n",
    "        c = x**2 * inv_V[0,0] - 1\n",
    "        disc = b**2 - 4*a*c \n",
    "\n",
    "        if disc >= 0:\n",
    "            root_1 = (-b + np.sqrt(disc)) / (2*a)\n",
    "            root_2 = (-b - np.sqrt(disc)) / (2*a)\n",
    "            if np.isreal(root_1):\n",
    "                contour_1[count, :] = [x, root_1] + M.T\n",
    "                contour_2[count, :] = [x, root_2] + M.T\n",
    "                count += 1\n",
    "    \n",
    "    contour_1 = contour_1[0:count-1, :]\n",
    "    contour_2 = np.vstack((contour_1[0], contour_2[0:count, :], contour_1[count-2, :]))\n",
    "\n",
    "    plt.plot(M[0], M[1], 'r+')\n",
    "    plt.plot(contour_1[:,0], contour_1[:,1], 'b-', linewidth=0.5)\n",
    "    plt.plot(contour_2[:,0], contour_2[:,1], 'b-', linewidth=0.5)"
   ]
  },
  {
   "cell_type": "code",
   "execution_count": 28,
   "metadata": {},
   "outputs": [],
   "source": [
    "def plot_trials(selected_trials: list, test_est_state_mean: np.array, test_est_state_cov: np.array, test_arm_states: np.array):\n",
    "    \"\"\"\n",
    "    Creates a 1 x 3 plot figure for each of the trials in selected_trials.\n",
    "    The subplots include \n",
    "        (1) the mean position estimate, the one-standard-deviation confidence ellipse corresponding \n",
    "        to the uncertainty of each position estimate, and the actual arm trajectory \n",
    "            - (x-axis horizontal position, y-axis vertical position);\n",
    "        (2) the decoded mean trajectory in the horizontal direction, the one-standard-deviation\n",
    "        confidence intervals, and the actual arm trajectory \n",
    "            - (x-axis time, y-axis horizontal position);\n",
    "        (3) the decoded mean trajectory in the vertical direction, the one-standard-deviation\n",
    "        confidence intervals, and the actual arm trajectory \n",
    "            - (x-axis time, y-axis vertical position)\n",
    "\n",
    "    Argumentss:\n",
    "        selected_trials (list): list of tuples indicating which trials to plot figures for.\n",
    "        test_est_state_mean (np.array): decoded mean position estimates for test trials.\n",
    "        test_est_state_cov (np.array): covaraince matrices for each test trial prediction.\n",
    "        test_arm_states (np.array): 4-dim arm states for test data.\n",
    "\n",
    "    We've provided a basic outline for one way you can structure this function to achieve the\n",
    "    1 x 3 plot figure. You are welcome to use this outline or to change it for your implementation.\n",
    "    \"\"\"\n",
    "\n",
    "    for value in range(len(test_est_state_mean)):\n",
    "        hor_pos = float(test_est_state_mean[value][0])\n",
    "        ver_pos = float(test_est_state_mean[value][1])\n",
    "\n",
    "        plt.plot(hor_pos, ver_pos)\n",
    "        plt.subplot(1, 3, 1)\n",
    "        plt.xlabel('Horz-Pos')\n",
    "        plt.ylabel('Vert-Pos')\n",
    "    for trial, direction in selected_trials:\n",
    "        # ----- YOUR CODE HERE FOR ANY VARIABLES ----- #\n",
    "        \n",
    "        \n",
    "\n",
    "        # plt.subplot(1,3,1)\n",
    "        # plt.xlabel('Horz-Pos')\n",
    "        # plt.ylabel('Vert-Pos')\n",
    "        # ----- YOUR CODE HERE FOR SUBPLOT (1) ----- #\n",
    "\n",
    "        plt.subplot(1,3,2)\n",
    "        plt.xlabel('Time')\n",
    "        plt.ylabel('Horz-Pos')\n",
    "        # ----- YOUR CODE HERE FOR SUBPLOT (2) ----- #\n",
    "        \n",
    "        plt.subplot(1,3,3)\n",
    "        plt.xlabel('Time')\n",
    "        plt.ylabel('Vert-Pos')\n",
    "        # ----- YOUR CODE HERE FOR SUBPLOT (3) ----- #\n",
    "\n",
    "        # ----- YOUR CODE HERE FOR ANY ADDITIONAL WORK OR PLOT STYLING ----- #\n",
    "\n",
    "        plt.tight_layout()\n",
    "        plt.show()"
   ]
  },
  {
   "cell_type": "code",
   "execution_count": 29,
   "metadata": {},
   "outputs": [
    {
     "name": "stderr",
     "output_type": "stream",
     "text": [
      "/var/folders/kh/ghd6c8493xb47jcyghc180g80000gn/T/ipykernel_80373/92900467.py:30: MatplotlibDeprecationWarning: Auto-removal of overlapping axes is deprecated since 3.6 and will be removed two minor releases later; explicitly call ax.remove() as needed.\n",
      "  plt.subplot(1, 3, 1)\n"
     ]
    },
    {
     "data": {
      "image/png": "[encoded data removed]",
      "text/plain": [
       "<Figure size 640x480 with 3 Axes>"
      ]
     },
     "metadata": {},
     "output_type": "display_data"
    },
    {
     "data": {
      "image/png": "[encoded data removed]",
      "text/plain": [
       "<Figure size 640x480 with 2 Axes>"
      ]
     },
     "metadata": {},
     "output_type": "display_data"
    }
   ],
   "source": [
    "selected_trials = [(0,0), (0,3)]\n",
    "plot_trials(selected_trials, test_est_state_mean, test_est_state_cov, test_arm_states)"
   ]
  },
  {
   "cell_type": "markdown",
   "metadata": {},
   "source": [
    "## Performance Evaluation"
   ]
  },
  {
   "cell_type": "code",
   "execution_count": null,
   "metadata": {},
   "outputs": [],
   "source": [
    "def calculate_distance(test_arm_states: np.array, test_est_state_mean: np.array):\n",
    "    \"\"\"\n",
    "    Calculates the mean distance (in mm) between the decoded position and actual position\n",
    "    across the timepoints of all test trials.\n",
    "\n",
    "    Args: \n",
    "        test_arm_states (np.array): 4-dim arm states for test data.\n",
    "        test_est_state_mean (np.array): decoded mean position estimates for test trials.\n",
    "    Returns:\n",
    "        dist (float): mean distance.\n",
    "    \"\"\"\n",
    "    # ----- YOUR CODE HERE ----- #\n",
    "    raise NotImplementedError\n",
    "    # -------------------------- #"
   ]
  },
  {
   "cell_type": "code",
   "execution_count": null,
   "metadata": {},
   "outputs": [],
   "source": [
    "dist = calculate_distance(test_arm_states, test_est_state_mean)\n",
    "print(f\"Mean distance error: {dist:.4f}\")"
   ]
  }
 ],
 "metadata": {
  "kernelspec": {
   "display_name": "cse599n",
   "language": "python",
   "name": "python3"
  },
  "language_info": {
   "codemirror_mode": {
    "name": "ipython",
    "version": 3
   },
   "file_extension": ".py",
   "mimetype": "text/x-python",
   "name": "python",
   "nbconvert_exporter": "python",
   "pygments_lexer": "ipython3",
   "version": "3.8.19"
  }
 },
 "nbformat": 4,
 "nbformat_minor": 2
}
